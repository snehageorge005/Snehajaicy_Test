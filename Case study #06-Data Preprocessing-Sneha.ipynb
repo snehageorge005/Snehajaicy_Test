{
 "cells": [
  {
   "cell_type": "code",
   "execution_count": 1,
   "metadata": {},
   "outputs": [],
   "source": [
    "import numpy as np\n",
    "import pandas as pd\n",
    "import scipy.stats as stats\n",
    "import matplotlib.pyplot as plt\n",
    "import seaborn as sns"
   ]
  },
  {
   "cell_type": "markdown",
   "metadata": {},
   "source": [
    "Q1: Load the dataset into python"
   ]
  },
  {
   "cell_type": "code",
   "execution_count": 2,
   "metadata": {},
   "outputs": [],
   "source": [
    "data = pd.read_csv('titanic_dataset.csv')"
   ]
  },
  {
   "cell_type": "code",
   "execution_count": 3,
   "metadata": {},
   "outputs": [
    {
     "data": {
      "text/html": [
       "<div>\n",
       "<style scoped>\n",
       "    .dataframe tbody tr th:only-of-type {\n",
       "        vertical-align: middle;\n",
       "    }\n",
       "\n",
       "    .dataframe tbody tr th {\n",
       "        vertical-align: top;\n",
       "    }\n",
       "\n",
       "    .dataframe thead th {\n",
       "        text-align: right;\n",
       "    }\n",
       "</style>\n",
       "<table border=\"1\" class=\"dataframe\">\n",
       "  <thead>\n",
       "    <tr style=\"text-align: right;\">\n",
       "      <th></th>\n",
       "      <th>PassengerId</th>\n",
       "      <th>Survived</th>\n",
       "      <th>Pclass</th>\n",
       "      <th>Name</th>\n",
       "      <th>Sex</th>\n",
       "      <th>Age</th>\n",
       "      <th>SibSp</th>\n",
       "      <th>Parch</th>\n",
       "      <th>Ticket</th>\n",
       "      <th>Fare</th>\n",
       "      <th>Cabin</th>\n",
       "      <th>Embarked</th>\n",
       "    </tr>\n",
       "  </thead>\n",
       "  <tbody>\n",
       "    <tr>\n",
       "      <th>0</th>\n",
       "      <td>1</td>\n",
       "      <td>0</td>\n",
       "      <td>3</td>\n",
       "      <td>Braund, Mr. Owen Harris</td>\n",
       "      <td>male</td>\n",
       "      <td>22.0</td>\n",
       "      <td>1</td>\n",
       "      <td>0</td>\n",
       "      <td>A/5 21171</td>\n",
       "      <td>7.2500</td>\n",
       "      <td>NaN</td>\n",
       "      <td>S</td>\n",
       "    </tr>\n",
       "    <tr>\n",
       "      <th>1</th>\n",
       "      <td>2</td>\n",
       "      <td>1</td>\n",
       "      <td>1</td>\n",
       "      <td>Cumings, Mrs. John Bradley (Florence Briggs Th...</td>\n",
       "      <td>female</td>\n",
       "      <td>38.0</td>\n",
       "      <td>1</td>\n",
       "      <td>0</td>\n",
       "      <td>PC 17599</td>\n",
       "      <td>71.2833</td>\n",
       "      <td>C85</td>\n",
       "      <td>C</td>\n",
       "    </tr>\n",
       "    <tr>\n",
       "      <th>2</th>\n",
       "      <td>3</td>\n",
       "      <td>1</td>\n",
       "      <td>3</td>\n",
       "      <td>Heikkinen, Miss. Laina</td>\n",
       "      <td>female</td>\n",
       "      <td>26.0</td>\n",
       "      <td>0</td>\n",
       "      <td>0</td>\n",
       "      <td>STON/O2. 3101282</td>\n",
       "      <td>7.9250</td>\n",
       "      <td>NaN</td>\n",
       "      <td>S</td>\n",
       "    </tr>\n",
       "    <tr>\n",
       "      <th>3</th>\n",
       "      <td>4</td>\n",
       "      <td>1</td>\n",
       "      <td>1</td>\n",
       "      <td>Futrelle, Mrs. Jacques Heath (Lily May Peel)</td>\n",
       "      <td>female</td>\n",
       "      <td>35.0</td>\n",
       "      <td>1</td>\n",
       "      <td>0</td>\n",
       "      <td>113803</td>\n",
       "      <td>53.1000</td>\n",
       "      <td>C123</td>\n",
       "      <td>S</td>\n",
       "    </tr>\n",
       "    <tr>\n",
       "      <th>4</th>\n",
       "      <td>5</td>\n",
       "      <td>0</td>\n",
       "      <td>3</td>\n",
       "      <td>Allen, Mr. William Henry</td>\n",
       "      <td>male</td>\n",
       "      <td>35.0</td>\n",
       "      <td>0</td>\n",
       "      <td>0</td>\n",
       "      <td>373450</td>\n",
       "      <td>8.0500</td>\n",
       "      <td>NaN</td>\n",
       "      <td>S</td>\n",
       "    </tr>\n",
       "  </tbody>\n",
       "</table>\n",
       "</div>"
      ],
      "text/plain": [
       "   PassengerId  Survived  Pclass  \\\n",
       "0            1         0       3   \n",
       "1            2         1       1   \n",
       "2            3         1       3   \n",
       "3            4         1       1   \n",
       "4            5         0       3   \n",
       "\n",
       "                                                Name     Sex   Age  SibSp  \\\n",
       "0                            Braund, Mr. Owen Harris    male  22.0      1   \n",
       "1  Cumings, Mrs. John Bradley (Florence Briggs Th...  female  38.0      1   \n",
       "2                             Heikkinen, Miss. Laina  female  26.0      0   \n",
       "3       Futrelle, Mrs. Jacques Heath (Lily May Peel)  female  35.0      1   \n",
       "4                           Allen, Mr. William Henry    male  35.0      0   \n",
       "\n",
       "   Parch            Ticket     Fare Cabin Embarked  \n",
       "0      0         A/5 21171   7.2500   NaN        S  \n",
       "1      0          PC 17599  71.2833   C85        C  \n",
       "2      0  STON/O2. 3101282   7.9250   NaN        S  \n",
       "3      0            113803  53.1000  C123        S  \n",
       "4      0            373450   8.0500   NaN        S  "
      ]
     },
     "execution_count": 3,
     "metadata": {},
     "output_type": "execute_result"
    }
   ],
   "source": [
    "data.head()"
   ]
  },
  {
   "cell_type": "markdown",
   "metadata": {},
   "source": [
    "Q2: Make 'PassengerId' as the index column"
   ]
  },
  {
   "cell_type": "code",
   "execution_count": 4,
   "metadata": {},
   "outputs": [],
   "source": [
    "data = data.set_index('PassengerId')"
   ]
  },
  {
   "cell_type": "code",
   "execution_count": 5,
   "metadata": {},
   "outputs": [
    {
     "data": {
      "text/html": [
       "<div>\n",
       "<style scoped>\n",
       "    .dataframe tbody tr th:only-of-type {\n",
       "        vertical-align: middle;\n",
       "    }\n",
       "\n",
       "    .dataframe tbody tr th {\n",
       "        vertical-align: top;\n",
       "    }\n",
       "\n",
       "    .dataframe thead th {\n",
       "        text-align: right;\n",
       "    }\n",
       "</style>\n",
       "<table border=\"1\" class=\"dataframe\">\n",
       "  <thead>\n",
       "    <tr style=\"text-align: right;\">\n",
       "      <th></th>\n",
       "      <th>Survived</th>\n",
       "      <th>Pclass</th>\n",
       "      <th>Name</th>\n",
       "      <th>Sex</th>\n",
       "      <th>Age</th>\n",
       "      <th>SibSp</th>\n",
       "      <th>Parch</th>\n",
       "      <th>Ticket</th>\n",
       "      <th>Fare</th>\n",
       "      <th>Cabin</th>\n",
       "      <th>Embarked</th>\n",
       "    </tr>\n",
       "    <tr>\n",
       "      <th>PassengerId</th>\n",
       "      <th></th>\n",
       "      <th></th>\n",
       "      <th></th>\n",
       "      <th></th>\n",
       "      <th></th>\n",
       "      <th></th>\n",
       "      <th></th>\n",
       "      <th></th>\n",
       "      <th></th>\n",
       "      <th></th>\n",
       "      <th></th>\n",
       "    </tr>\n",
       "  </thead>\n",
       "  <tbody>\n",
       "    <tr>\n",
       "      <th>1</th>\n",
       "      <td>0</td>\n",
       "      <td>3</td>\n",
       "      <td>Braund, Mr. Owen Harris</td>\n",
       "      <td>male</td>\n",
       "      <td>22.0</td>\n",
       "      <td>1</td>\n",
       "      <td>0</td>\n",
       "      <td>A/5 21171</td>\n",
       "      <td>7.2500</td>\n",
       "      <td>NaN</td>\n",
       "      <td>S</td>\n",
       "    </tr>\n",
       "    <tr>\n",
       "      <th>2</th>\n",
       "      <td>1</td>\n",
       "      <td>1</td>\n",
       "      <td>Cumings, Mrs. John Bradley (Florence Briggs Th...</td>\n",
       "      <td>female</td>\n",
       "      <td>38.0</td>\n",
       "      <td>1</td>\n",
       "      <td>0</td>\n",
       "      <td>PC 17599</td>\n",
       "      <td>71.2833</td>\n",
       "      <td>C85</td>\n",
       "      <td>C</td>\n",
       "    </tr>\n",
       "    <tr>\n",
       "      <th>3</th>\n",
       "      <td>1</td>\n",
       "      <td>3</td>\n",
       "      <td>Heikkinen, Miss. Laina</td>\n",
       "      <td>female</td>\n",
       "      <td>26.0</td>\n",
       "      <td>0</td>\n",
       "      <td>0</td>\n",
       "      <td>STON/O2. 3101282</td>\n",
       "      <td>7.9250</td>\n",
       "      <td>NaN</td>\n",
       "      <td>S</td>\n",
       "    </tr>\n",
       "    <tr>\n",
       "      <th>4</th>\n",
       "      <td>1</td>\n",
       "      <td>1</td>\n",
       "      <td>Futrelle, Mrs. Jacques Heath (Lily May Peel)</td>\n",
       "      <td>female</td>\n",
       "      <td>35.0</td>\n",
       "      <td>1</td>\n",
       "      <td>0</td>\n",
       "      <td>113803</td>\n",
       "      <td>53.1000</td>\n",
       "      <td>C123</td>\n",
       "      <td>S</td>\n",
       "    </tr>\n",
       "    <tr>\n",
       "      <th>5</th>\n",
       "      <td>0</td>\n",
       "      <td>3</td>\n",
       "      <td>Allen, Mr. William Henry</td>\n",
       "      <td>male</td>\n",
       "      <td>35.0</td>\n",
       "      <td>0</td>\n",
       "      <td>0</td>\n",
       "      <td>373450</td>\n",
       "      <td>8.0500</td>\n",
       "      <td>NaN</td>\n",
       "      <td>S</td>\n",
       "    </tr>\n",
       "    <tr>\n",
       "      <th>...</th>\n",
       "      <td>...</td>\n",
       "      <td>...</td>\n",
       "      <td>...</td>\n",
       "      <td>...</td>\n",
       "      <td>...</td>\n",
       "      <td>...</td>\n",
       "      <td>...</td>\n",
       "      <td>...</td>\n",
       "      <td>...</td>\n",
       "      <td>...</td>\n",
       "      <td>...</td>\n",
       "    </tr>\n",
       "    <tr>\n",
       "      <th>887</th>\n",
       "      <td>0</td>\n",
       "      <td>2</td>\n",
       "      <td>Montvila, Rev. Juozas</td>\n",
       "      <td>male</td>\n",
       "      <td>27.0</td>\n",
       "      <td>0</td>\n",
       "      <td>0</td>\n",
       "      <td>211536</td>\n",
       "      <td>13.0000</td>\n",
       "      <td>NaN</td>\n",
       "      <td>S</td>\n",
       "    </tr>\n",
       "    <tr>\n",
       "      <th>888</th>\n",
       "      <td>1</td>\n",
       "      <td>1</td>\n",
       "      <td>Graham, Miss. Margaret Edith</td>\n",
       "      <td>female</td>\n",
       "      <td>19.0</td>\n",
       "      <td>0</td>\n",
       "      <td>0</td>\n",
       "      <td>112053</td>\n",
       "      <td>30.0000</td>\n",
       "      <td>B42</td>\n",
       "      <td>S</td>\n",
       "    </tr>\n",
       "    <tr>\n",
       "      <th>889</th>\n",
       "      <td>0</td>\n",
       "      <td>3</td>\n",
       "      <td>Johnston, Miss. Catherine Helen \"Carrie\"</td>\n",
       "      <td>female</td>\n",
       "      <td>NaN</td>\n",
       "      <td>1</td>\n",
       "      <td>2</td>\n",
       "      <td>W./C. 6607</td>\n",
       "      <td>23.4500</td>\n",
       "      <td>NaN</td>\n",
       "      <td>S</td>\n",
       "    </tr>\n",
       "    <tr>\n",
       "      <th>890</th>\n",
       "      <td>1</td>\n",
       "      <td>1</td>\n",
       "      <td>Behr, Mr. Karl Howell</td>\n",
       "      <td>male</td>\n",
       "      <td>26.0</td>\n",
       "      <td>0</td>\n",
       "      <td>0</td>\n",
       "      <td>111369</td>\n",
       "      <td>30.0000</td>\n",
       "      <td>C148</td>\n",
       "      <td>C</td>\n",
       "    </tr>\n",
       "    <tr>\n",
       "      <th>891</th>\n",
       "      <td>0</td>\n",
       "      <td>3</td>\n",
       "      <td>Dooley, Mr. Patrick</td>\n",
       "      <td>male</td>\n",
       "      <td>32.0</td>\n",
       "      <td>0</td>\n",
       "      <td>0</td>\n",
       "      <td>370376</td>\n",
       "      <td>7.7500</td>\n",
       "      <td>NaN</td>\n",
       "      <td>Q</td>\n",
       "    </tr>\n",
       "  </tbody>\n",
       "</table>\n",
       "<p>891 rows × 11 columns</p>\n",
       "</div>"
      ],
      "text/plain": [
       "             Survived  Pclass  \\\n",
       "PassengerId                     \n",
       "1                   0       3   \n",
       "2                   1       1   \n",
       "3                   1       3   \n",
       "4                   1       1   \n",
       "5                   0       3   \n",
       "...               ...     ...   \n",
       "887                 0       2   \n",
       "888                 1       1   \n",
       "889                 0       3   \n",
       "890                 1       1   \n",
       "891                 0       3   \n",
       "\n",
       "                                                          Name     Sex   Age  \\\n",
       "PassengerId                                                                    \n",
       "1                                      Braund, Mr. Owen Harris    male  22.0   \n",
       "2            Cumings, Mrs. John Bradley (Florence Briggs Th...  female  38.0   \n",
       "3                                       Heikkinen, Miss. Laina  female  26.0   \n",
       "4                 Futrelle, Mrs. Jacques Heath (Lily May Peel)  female  35.0   \n",
       "5                                     Allen, Mr. William Henry    male  35.0   \n",
       "...                                                        ...     ...   ...   \n",
       "887                                      Montvila, Rev. Juozas    male  27.0   \n",
       "888                               Graham, Miss. Margaret Edith  female  19.0   \n",
       "889                   Johnston, Miss. Catherine Helen \"Carrie\"  female   NaN   \n",
       "890                                      Behr, Mr. Karl Howell    male  26.0   \n",
       "891                                        Dooley, Mr. Patrick    male  32.0   \n",
       "\n",
       "             SibSp  Parch            Ticket     Fare Cabin Embarked  \n",
       "PassengerId                                                          \n",
       "1                1      0         A/5 21171   7.2500   NaN        S  \n",
       "2                1      0          PC 17599  71.2833   C85        C  \n",
       "3                0      0  STON/O2. 3101282   7.9250   NaN        S  \n",
       "4                1      0            113803  53.1000  C123        S  \n",
       "5                0      0            373450   8.0500   NaN        S  \n",
       "...            ...    ...               ...      ...   ...      ...  \n",
       "887              0      0            211536  13.0000   NaN        S  \n",
       "888              0      0            112053  30.0000   B42        S  \n",
       "889              1      2        W./C. 6607  23.4500   NaN        S  \n",
       "890              0      0            111369  30.0000  C148        C  \n",
       "891              0      0            370376   7.7500   NaN        Q  \n",
       "\n",
       "[891 rows x 11 columns]"
      ]
     },
     "execution_count": 5,
     "metadata": {},
     "output_type": "execute_result"
    }
   ],
   "source": [
    "data"
   ]
  },
  {
   "cell_type": "markdown",
   "metadata": {},
   "source": [
    "Q3: Check the basic details of the dataset"
   ]
  },
  {
   "cell_type": "code",
   "execution_count": 6,
   "metadata": {},
   "outputs": [
    {
     "data": {
      "text/html": [
       "<div>\n",
       "<style scoped>\n",
       "    .dataframe tbody tr th:only-of-type {\n",
       "        vertical-align: middle;\n",
       "    }\n",
       "\n",
       "    .dataframe tbody tr th {\n",
       "        vertical-align: top;\n",
       "    }\n",
       "\n",
       "    .dataframe thead th {\n",
       "        text-align: right;\n",
       "    }\n",
       "</style>\n",
       "<table border=\"1\" class=\"dataframe\">\n",
       "  <thead>\n",
       "    <tr style=\"text-align: right;\">\n",
       "      <th></th>\n",
       "      <th>Survived</th>\n",
       "      <th>Pclass</th>\n",
       "      <th>Age</th>\n",
       "      <th>SibSp</th>\n",
       "      <th>Parch</th>\n",
       "      <th>Fare</th>\n",
       "    </tr>\n",
       "  </thead>\n",
       "  <tbody>\n",
       "    <tr>\n",
       "      <th>count</th>\n",
       "      <td>891.000000</td>\n",
       "      <td>891.000000</td>\n",
       "      <td>714.000000</td>\n",
       "      <td>891.000000</td>\n",
       "      <td>891.000000</td>\n",
       "      <td>891.000000</td>\n",
       "    </tr>\n",
       "    <tr>\n",
       "      <th>mean</th>\n",
       "      <td>0.383838</td>\n",
       "      <td>2.308642</td>\n",
       "      <td>29.699118</td>\n",
       "      <td>0.523008</td>\n",
       "      <td>0.381594</td>\n",
       "      <td>32.204208</td>\n",
       "    </tr>\n",
       "    <tr>\n",
       "      <th>std</th>\n",
       "      <td>0.486592</td>\n",
       "      <td>0.836071</td>\n",
       "      <td>14.526497</td>\n",
       "      <td>1.102743</td>\n",
       "      <td>0.806057</td>\n",
       "      <td>49.693429</td>\n",
       "    </tr>\n",
       "    <tr>\n",
       "      <th>min</th>\n",
       "      <td>0.000000</td>\n",
       "      <td>1.000000</td>\n",
       "      <td>0.420000</td>\n",
       "      <td>0.000000</td>\n",
       "      <td>0.000000</td>\n",
       "      <td>0.000000</td>\n",
       "    </tr>\n",
       "    <tr>\n",
       "      <th>25%</th>\n",
       "      <td>0.000000</td>\n",
       "      <td>2.000000</td>\n",
       "      <td>20.125000</td>\n",
       "      <td>0.000000</td>\n",
       "      <td>0.000000</td>\n",
       "      <td>7.910400</td>\n",
       "    </tr>\n",
       "    <tr>\n",
       "      <th>50%</th>\n",
       "      <td>0.000000</td>\n",
       "      <td>3.000000</td>\n",
       "      <td>28.000000</td>\n",
       "      <td>0.000000</td>\n",
       "      <td>0.000000</td>\n",
       "      <td>14.454200</td>\n",
       "    </tr>\n",
       "    <tr>\n",
       "      <th>75%</th>\n",
       "      <td>1.000000</td>\n",
       "      <td>3.000000</td>\n",
       "      <td>38.000000</td>\n",
       "      <td>1.000000</td>\n",
       "      <td>0.000000</td>\n",
       "      <td>31.000000</td>\n",
       "    </tr>\n",
       "    <tr>\n",
       "      <th>max</th>\n",
       "      <td>1.000000</td>\n",
       "      <td>3.000000</td>\n",
       "      <td>80.000000</td>\n",
       "      <td>8.000000</td>\n",
       "      <td>6.000000</td>\n",
       "      <td>512.329200</td>\n",
       "    </tr>\n",
       "  </tbody>\n",
       "</table>\n",
       "</div>"
      ],
      "text/plain": [
       "         Survived      Pclass         Age       SibSp       Parch        Fare\n",
       "count  891.000000  891.000000  714.000000  891.000000  891.000000  891.000000\n",
       "mean     0.383838    2.308642   29.699118    0.523008    0.381594   32.204208\n",
       "std      0.486592    0.836071   14.526497    1.102743    0.806057   49.693429\n",
       "min      0.000000    1.000000    0.420000    0.000000    0.000000    0.000000\n",
       "25%      0.000000    2.000000   20.125000    0.000000    0.000000    7.910400\n",
       "50%      0.000000    3.000000   28.000000    0.000000    0.000000   14.454200\n",
       "75%      1.000000    3.000000   38.000000    1.000000    0.000000   31.000000\n",
       "max      1.000000    3.000000   80.000000    8.000000    6.000000  512.329200"
      ]
     },
     "execution_count": 6,
     "metadata": {},
     "output_type": "execute_result"
    }
   ],
   "source": [
    "data.describe()"
   ]
  },
  {
   "cell_type": "code",
   "execution_count": 7,
   "metadata": {},
   "outputs": [
    {
     "name": "stdout",
     "output_type": "stream",
     "text": [
      "<class 'pandas.core.frame.DataFrame'>\n",
      "Int64Index: 891 entries, 1 to 891\n",
      "Data columns (total 11 columns):\n",
      " #   Column    Non-Null Count  Dtype  \n",
      "---  ------    --------------  -----  \n",
      " 0   Survived  891 non-null    int64  \n",
      " 1   Pclass    891 non-null    int64  \n",
      " 2   Name      891 non-null    object \n",
      " 3   Sex       891 non-null    object \n",
      " 4   Age       714 non-null    float64\n",
      " 5   SibSp     891 non-null    int64  \n",
      " 6   Parch     891 non-null    int64  \n",
      " 7   Ticket    891 non-null    object \n",
      " 8   Fare      891 non-null    float64\n",
      " 9   Cabin     204 non-null    object \n",
      " 10  Embarked  889 non-null    object \n",
      "dtypes: float64(2), int64(4), object(5)\n",
      "memory usage: 83.5+ KB\n"
     ]
    }
   ],
   "source": [
    "data.info()"
   ]
  },
  {
   "cell_type": "markdown",
   "metadata": {},
   "source": [
    "Q4: Fill in all the missing values present in all the columns in the dataset"
   ]
  },
  {
   "cell_type": "code",
   "execution_count": 8,
   "metadata": {},
   "outputs": [
    {
     "data": {
      "text/plain": [
       "Survived      0\n",
       "Pclass        0\n",
       "Name          0\n",
       "Sex           0\n",
       "Age         177\n",
       "SibSp         0\n",
       "Parch         0\n",
       "Ticket        0\n",
       "Fare          0\n",
       "Cabin       687\n",
       "Embarked      2\n",
       "dtype: int64"
      ]
     },
     "execution_count": 8,
     "metadata": {},
     "output_type": "execute_result"
    }
   ],
   "source": [
    "data.isna().sum()"
   ]
  },
  {
   "cell_type": "code",
   "execution_count": 9,
   "metadata": {},
   "outputs": [
    {
     "data": {
      "text/plain": [
       "array([[<AxesSubplot:title={'center':'Survived'}>,\n",
       "        <AxesSubplot:title={'center':'Pclass'}>],\n",
       "       [<AxesSubplot:title={'center':'Age'}>,\n",
       "        <AxesSubplot:title={'center':'SibSp'}>],\n",
       "       [<AxesSubplot:title={'center':'Parch'}>,\n",
       "        <AxesSubplot:title={'center':'Fare'}>]], dtype=object)"
      ]
     },
     "execution_count": 9,
     "metadata": {},
     "output_type": "execute_result"
    },
    {
     "data": {
      "image/png": "[encoded data removed]",
      "text/plain": [
       "<Figure size 432x288 with 6 Axes>"
      ]
     },
     "metadata": {
      "needs_background": "light"
     },
     "output_type": "display_data"
    }
   ],
   "source": [
    "data.hist()"
   ]
  },
  {
   "cell_type": "code",
   "execution_count": 10,
   "metadata": {},
   "outputs": [],
   "source": [
    "data['Age'] = data['Age'].fillna(data['Age'].median())"
   ]
  },
  {
   "cell_type": "code",
   "execution_count": 11,
   "metadata": {},
   "outputs": [],
   "source": [
    "data['Cabin'] = data['Cabin'].fillna(data['Cabin'].mode()[0])"
   ]
  },
  {
   "cell_type": "code",
   "execution_count": 12,
   "metadata": {},
   "outputs": [],
   "source": [
    "data['Embarked'] = data['Embarked'].fillna(data['Embarked'].mode())"
   ]
  },
  {
   "cell_type": "code",
   "execution_count": 13,
   "metadata": {},
   "outputs": [
    {
     "data": {
      "text/plain": [
       "Survived    0\n",
       "Pclass      0\n",
       "Name        0\n",
       "Sex         0\n",
       "Age         0\n",
       "SibSp       0\n",
       "Parch       0\n",
       "Ticket      0\n",
       "Fare        0\n",
       "Cabin       0\n",
       "Embarked    2\n",
       "dtype: int64"
      ]
     },
     "execution_count": 13,
     "metadata": {},
     "output_type": "execute_result"
    }
   ],
   "source": [
    "data.isna().sum()"
   ]
  },
  {
   "cell_type": "markdown",
   "metadata": {},
   "source": [
    "Q5: Check and handle outliers in at least 3 columns in the dataset"
   ]
  },
  {
   "cell_type": "code",
   "execution_count": 14,
   "metadata": {},
   "outputs": [
    {
     "data": {
      "text/plain": [
       "Text(0.5, 1.0, 'Box plot of SibSp')"
      ]
     },
     "execution_count": 14,
     "metadata": {},
     "output_type": "execute_result"
    },
    {
     "data": {
      "image/png": "[encoded data removed]",
      "text/plain": [
       "<Figure size 432x288 with 1 Axes>"
      ]
     },
     "metadata": {
      "needs_background": "light"
     },
     "output_type": "display_data"
    }
   ],
   "source": [
    "# Checking for Outliers in SibSp column\n",
    "plt.boxplot(data['SibSp'])\n",
    "plt.title('Box plot of SibSp')"
   ]
  },
  {
   "cell_type": "code",
   "execution_count": 15,
   "metadata": {},
   "outputs": [],
   "source": [
    "Q1 = np.percentile(data['SibSp'], 25, interpolation = 'midpoint')\n",
    "Q2 = np.percentile(data['SibSp'], 50, interpolation = 'midpoint')\n",
    "Q3 = np.percentile(data['SibSp'], 75, interpolation = 'midpoint')"
   ]
  },
  {
   "cell_type": "code",
   "execution_count": 16,
   "metadata": {},
   "outputs": [
    {
     "name": "stdout",
     "output_type": "stream",
     "text": [
      "0.0 0.0 1.0\n"
     ]
    }
   ],
   "source": [
    "IQR = Q3-Q1\n",
    "print(Q1,Q2,Q3)"
   ]
  },
  {
   "cell_type": "code",
   "execution_count": 17,
   "metadata": {},
   "outputs": [],
   "source": [
    "low_lim = Q1-1.5*IQR\n",
    "up_lim = Q3+1.5*IQR"
   ]
  },
  {
   "cell_type": "code",
   "execution_count": 18,
   "metadata": {},
   "outputs": [
    {
     "data": {
      "text/plain": [
       "-1.5"
      ]
     },
     "execution_count": 18,
     "metadata": {},
     "output_type": "execute_result"
    }
   ],
   "source": [
    "low_lim"
   ]
  },
  {
   "cell_type": "code",
   "execution_count": 19,
   "metadata": {},
   "outputs": [
    {
     "data": {
      "text/plain": [
       "2.5"
      ]
     },
     "execution_count": 19,
     "metadata": {},
     "output_type": "execute_result"
    }
   ],
   "source": [
    "up_lim"
   ]
  },
  {
   "cell_type": "code",
   "execution_count": 20,
   "metadata": {},
   "outputs": [
    {
     "data": {
      "text/plain": [
       "[3,\n",
       " 4,\n",
       " 3,\n",
       " 3,\n",
       " 4,\n",
       " 5,\n",
       " 3,\n",
       " 4,\n",
       " 5,\n",
       " 3,\n",
       " 3,\n",
       " 4,\n",
       " 8,\n",
       " 4,\n",
       " 4,\n",
       " 3,\n",
       " 8,\n",
       " 4,\n",
       " 8,\n",
       " 3,\n",
       " 4,\n",
       " 4,\n",
       " 4,\n",
       " 4,\n",
       " 8,\n",
       " 3,\n",
       " 3,\n",
       " 5,\n",
       " 3,\n",
       " 5,\n",
       " 3,\n",
       " 4,\n",
       " 4,\n",
       " 3,\n",
       " 3,\n",
       " 5,\n",
       " 4,\n",
       " 3,\n",
       " 4,\n",
       " 8,\n",
       " 4,\n",
       " 3,\n",
       " 4,\n",
       " 8,\n",
       " 4,\n",
       " 8]"
      ]
     },
     "execution_count": 20,
     "metadata": {},
     "output_type": "execute_result"
    }
   ],
   "source": [
    "outlier = []\n",
    "for x in data['SibSp']:\n",
    "    if((x>up_lim) or (x<low_lim)):\n",
    "        outlier.append(x)\n",
    "outlier"
   ]
  },
  {
   "cell_type": "code",
   "execution_count": 21,
   "metadata": {},
   "outputs": [
    {
     "data": {
      "text/plain": [
       "Int64Index([  8,  17,  25,  28,  51,  60,  64,  69,  72,  86,  89, 120, 160,\n",
       "            165, 172, 177, 181, 183, 202, 230, 234, 262, 267, 279, 325, 342,\n",
       "            375, 387, 410, 481, 486, 542, 543, 635, 643, 684, 687, 727, 788,\n",
       "            793, 814, 820, 825, 847, 851, 864],\n",
       "           dtype='int64', name='PassengerId')"
      ]
     },
     "execution_count": 21,
     "metadata": {},
     "output_type": "execute_result"
    }
   ],
   "source": [
    "#to find the index of the outliers\n",
    "ind1 = data['SibSp']>up_lim\n",
    "data.loc[ind1].index"
   ]
  },
  {
   "cell_type": "code",
   "execution_count": 22,
   "metadata": {},
   "outputs": [],
   "source": [
    "data.drop([8,  17,  25,  28,  51,  60,  64,  69,  72,  86,  89, 120, 160,\n",
    "            165, 172, 177, 181, 183, 202, 230, 234, 262, 267, 279, 325, 342,\n",
    "            375, 387, 410, 481, 486, 542, 543, 635, 643, 684, 687, 727, 788,\n",
    "            793, 814, 820, 825, 847, 851, 864], inplace = True)"
   ]
  },
  {
   "cell_type": "code",
   "execution_count": 23,
   "metadata": {},
   "outputs": [
    {
     "data": {
      "text/plain": [
       "Text(0.5, 1.0, 'BOXPLOT OF SibSp')"
      ]
     },
     "execution_count": 23,
     "metadata": {},
     "output_type": "execute_result"
    },
    {
     "data": {
      "image/png": "[encoded data removed]",
      "text/plain": [
       "<Figure size 432x288 with 1 Axes>"
      ]
     },
     "metadata": {
      "needs_background": "light"
     },
     "output_type": "display_data"
    }
   ],
   "source": [
    "plt.boxplot(data['SibSp'])\n",
    "plt.title('BOXPLOT OF SibSp')"
   ]
  },
  {
   "cell_type": "code",
   "execution_count": 24,
   "metadata": {},
   "outputs": [
    {
     "data": {
      "text/plain": [
       "Text(0.5, 1.0, 'Box plot of Fare')"
      ]
     },
     "execution_count": 24,
     "metadata": {},
     "output_type": "execute_result"
    },
    {
     "data": {
      "image/png": "[encoded data removed]",
      "text/plain": [
       "<Figure size 432x288 with 1 Axes>"
      ]
     },
     "metadata": {
      "needs_background": "light"
     },
     "output_type": "display_data"
    }
   ],
   "source": [
    "# Checking for Outliers in Ticket column\n",
    "plt.boxplot(data['Fare'])\n",
    "plt.title('Box plot of Fare')"
   ]
  },
  {
   "cell_type": "code",
   "execution_count": 25,
   "metadata": {},
   "outputs": [],
   "source": [
    "Q1_Fare = np.percentile(data['Fare'], 25, interpolation = 'midpoint')\n",
    "Q2_Fare = np.percentile(data['Fare'], 50, interpolation = 'midpoint')\n",
    "Q3_Fare = np.percentile(data['Fare'], 75, interpolation = 'midpoint')"
   ]
  },
  {
   "cell_type": "code",
   "execution_count": 26,
   "metadata": {},
   "outputs": [
    {
     "name": "stdout",
     "output_type": "stream",
     "text": [
      "7.8958 13.0 30.0\n"
     ]
    }
   ],
   "source": [
    "IQR_Fare = Q3_Fare-Q1_Fare\n",
    "print(Q1_Fare,Q2_Fare,Q3_Fare)"
   ]
  },
  {
   "cell_type": "code",
   "execution_count": 27,
   "metadata": {},
   "outputs": [],
   "source": [
    "low_lim_Fare = Q1-1.5*IQR_Fare\n",
    "up_lim_Fare = Q3+1.5*IQR_Fare"
   ]
  },
  {
   "cell_type": "code",
   "execution_count": 28,
   "metadata": {},
   "outputs": [
    {
     "data": {
      "text/plain": [
       "-33.1563"
      ]
     },
     "execution_count": 28,
     "metadata": {},
     "output_type": "execute_result"
    }
   ],
   "source": [
    "low_lim_Fare"
   ]
  },
  {
   "cell_type": "code",
   "execution_count": 29,
   "metadata": {},
   "outputs": [
    {
     "data": {
      "text/plain": [
       "34.1563"
      ]
     },
     "execution_count": 29,
     "metadata": {},
     "output_type": "execute_result"
    }
   ],
   "source": [
    "up_lim_Fare"
   ]
  },
  {
   "cell_type": "code",
   "execution_count": 30,
   "metadata": {},
   "outputs": [
    {
     "data": {
      "text/plain": [
       "[71.2833,\n",
       " 53.1,\n",
       " 51.8625,\n",
       " 35.5,\n",
       " 146.5208,\n",
       " 82.1708,\n",
       " 52.0,\n",
       " 41.5792,\n",
       " 76.7292,\n",
       " 61.9792,\n",
       " 35.5,\n",
       " 80.0,\n",
       " 83.475,\n",
       " 73.5,\n",
       " 56.4958,\n",
       " 47.1,\n",
       " 34.375,\n",
       " 61.175,\n",
       " 34.6542,\n",
       " 63.3583,\n",
       " 77.2875,\n",
       " 52.0,\n",
       " 247.5208,\n",
       " 73.5,\n",
       " 77.2875,\n",
       " 53.1,\n",
       " 79.2,\n",
       " 36.75,\n",
       " 34.375,\n",
       " 66.6,\n",
       " 61.3792,\n",
       " 55.0,\n",
       " 56.4958,\n",
       " 39.0,\n",
       " 50.0,\n",
       " 146.5208,\n",
       " 113.275,\n",
       " 76.2917,\n",
       " 90.0,\n",
       " 83.475,\n",
       " 90.0,\n",
       " 52.5542,\n",
       " 79.2,\n",
       " 86.5,\n",
       " 512.3292,\n",
       " 79.65,\n",
       " 153.4625,\n",
       " 135.6333,\n",
       " 77.9583,\n",
       " 78.85,\n",
       " 91.0792,\n",
       " 151.55,\n",
       " 247.5208,\n",
       " 151.55,\n",
       " 110.8833,\n",
       " 108.9,\n",
       " 56.9292,\n",
       " 83.1583,\n",
       " 262.375,\n",
       " 164.8667,\n",
       " 134.5,\n",
       " 135.6333,\n",
       " 57.9792,\n",
       " 153.4625,\n",
       " 133.65,\n",
       " 66.6,\n",
       " 134.5,\n",
       " 35.5,\n",
       " 35.0,\n",
       " 55.0,\n",
       " 75.25,\n",
       " 69.3,\n",
       " 55.4417,\n",
       " 135.6333,\n",
       " 82.1708,\n",
       " 211.5,\n",
       " 227.525,\n",
       " 52.0,\n",
       " 73.5,\n",
       " 120.0,\n",
       " 113.275,\n",
       " 90.0,\n",
       " 55.9,\n",
       " 120.0,\n",
       " 34.375,\n",
       " 263.0,\n",
       " 81.8583,\n",
       " 89.1042,\n",
       " 51.8625,\n",
       " 38.5,\n",
       " 52.0,\n",
       " 91.0792,\n",
       " 90.0,\n",
       " 49.5042,\n",
       " 78.2667,\n",
       " 151.55,\n",
       " 86.5,\n",
       " 108.9,\n",
       " 56.4958,\n",
       " 59.4,\n",
       " 93.5,\n",
       " 57.9792,\n",
       " 221.7792,\n",
       " 106.425,\n",
       " 49.5,\n",
       " 71.0,\n",
       " 106.425,\n",
       " 36.75,\n",
       " 110.8833,\n",
       " 39.6,\n",
       " 227.525,\n",
       " 79.65,\n",
       " 51.4792,\n",
       " 55.9,\n",
       " 110.8833,\n",
       " 40.125,\n",
       " 79.65,\n",
       " 79.2,\n",
       " 78.2667,\n",
       " 56.9292,\n",
       " 42.4,\n",
       " 41.5792,\n",
       " 153.4625,\n",
       " 65.0,\n",
       " 39.0,\n",
       " 52.5542,\n",
       " 77.9583,\n",
       " 39.6875,\n",
       " 69.3,\n",
       " 56.4958,\n",
       " 76.7292,\n",
       " 35.5,\n",
       " 73.5,\n",
       " 113.275,\n",
       " 133.65,\n",
       " 73.5,\n",
       " 52.0,\n",
       " 39.0,\n",
       " 52.0,\n",
       " 46.9,\n",
       " 512.3292,\n",
       " 76.7292,\n",
       " 39.0,\n",
       " 41.5792,\n",
       " 211.3375,\n",
       " 57.0,\n",
       " 56.4958,\n",
       " 110.8833,\n",
       " 227.525,\n",
       " 151.55,\n",
       " 49.5042,\n",
       " 52.0,\n",
       " 227.525,\n",
       " 53.1,\n",
       " 211.3375,\n",
       " 34.375,\n",
       " 512.3292,\n",
       " 78.85,\n",
       " 262.375,\n",
       " 71.0,\n",
       " 53.1,\n",
       " 65.0,\n",
       " 86.5,\n",
       " 120.0,\n",
       " 77.9583,\n",
       " 39.6,\n",
       " 211.3375,\n",
       " 57.0,\n",
       " 79.2,\n",
       " 120.0,\n",
       " 53.1,\n",
       " 37.0042,\n",
       " 93.5,\n",
       " 56.4958,\n",
       " 37.0042,\n",
       " 80.0,\n",
       " 83.1583,\n",
       " 56.4958,\n",
       " 89.1042,\n",
       " 39.4,\n",
       " 164.8667,\n",
       " 50.4958,\n",
       " 52.5542,\n",
       " 83.1583]"
      ]
     },
     "execution_count": 30,
     "metadata": {},
     "output_type": "execute_result"
    }
   ],
   "source": [
    "outlier = []\n",
    "for x in data['Fare']:\n",
    "    if((x>up_lim_Fare) or (x<low_lim_Fare)):\n",
    "        outlier.append(x)\n",
    "outlier"
   ]
  },
  {
   "cell_type": "code",
   "execution_count": 31,
   "metadata": {},
   "outputs": [],
   "source": [
    "#to find the index of the outliers\n",
    "ind2 = (data['Fare']>up_lim_Fare)\n",
    "e = data.loc[ind2].index"
   ]
  },
  {
   "cell_type": "code",
   "execution_count": 32,
   "metadata": {},
   "outputs": [
    {
     "data": {
      "text/plain": [
       "Int64Index([  2,   4,   7,  24,  32,  35,  36,  44,  53,  55,\n",
       "            ...\n",
       "            828, 830, 836, 839, 850, 854, 857, 868, 872, 880],\n",
       "           dtype='int64', name='PassengerId', length=184)"
      ]
     },
     "execution_count": 32,
     "metadata": {},
     "output_type": "execute_result"
    }
   ],
   "source": [
    "e"
   ]
  },
  {
   "cell_type": "code",
   "execution_count": 33,
   "metadata": {},
   "outputs": [],
   "source": [
    "data.drop((e), inplace = True)"
   ]
  },
  {
   "cell_type": "code",
   "execution_count": 34,
   "metadata": {},
   "outputs": [
    {
     "data": {
      "text/plain": [
       "Text(0.5, 1.0, 'BOXPLOT OF Fare')"
      ]
     },
     "execution_count": 34,
     "metadata": {},
     "output_type": "execute_result"
    },
    {
     "data": {
      "image/png": "[encoded data removed]",
      "text/plain": [
       "<Figure size 432x288 with 1 Axes>"
      ]
     },
     "metadata": {
      "needs_background": "light"
     },
     "output_type": "display_data"
    }
   ],
   "source": [
    "plt.boxplot(data['Fare'])\n",
    "plt.title('BOXPLOT OF Fare')"
   ]
  },
  {
   "cell_type": "code",
   "execution_count": 35,
   "metadata": {},
   "outputs": [
    {
     "data": {
      "text/plain": [
       "Text(0.5, 1.0, 'Box plot of Age')"
      ]
     },
     "execution_count": 35,
     "metadata": {},
     "output_type": "execute_result"
    },
    {
     "data": {
      "image/png": "[encoded data removed]",
      "text/plain": [
       "<Figure size 432x288 with 1 Axes>"
      ]
     },
     "metadata": {
      "needs_background": "light"
     },
     "output_type": "display_data"
    }
   ],
   "source": [
    "# Checking for Outliers in Age column\n",
    "plt.boxplot(data['Age'])\n",
    "plt.title('Box plot of Age')"
   ]
  },
  {
   "cell_type": "code",
   "execution_count": 36,
   "metadata": {},
   "outputs": [],
   "source": [
    "Q1_Age = np.percentile(data['Age'], 25, interpolation = 'midpoint')\n",
    "Q2_Age = np.percentile(data['Age'], 50, interpolation = 'midpoint')\n",
    "Q3_Age = np.percentile(data['Age'], 75, interpolation = 'midpoint')"
   ]
  },
  {
   "cell_type": "code",
   "execution_count": 37,
   "metadata": {},
   "outputs": [
    {
     "name": "stdout",
     "output_type": "stream",
     "text": [
      "23.0 28.0 34.0\n"
     ]
    }
   ],
   "source": [
    "IQR_Age = Q3_Age-Q1_Age\n",
    "print(Q1_Age,Q2_Age,Q3_Age)"
   ]
  },
  {
   "cell_type": "code",
   "execution_count": 38,
   "metadata": {},
   "outputs": [],
   "source": [
    "low_lim_Age = Q1-1.5*IQR_Age\n",
    "up_lim_Age = Q3+1.5*IQR_Age"
   ]
  },
  {
   "cell_type": "code",
   "execution_count": 39,
   "metadata": {},
   "outputs": [
    {
     "data": {
      "text/plain": [
       "-16.5"
      ]
     },
     "execution_count": 39,
     "metadata": {},
     "output_type": "execute_result"
    }
   ],
   "source": [
    "low_lim_Age"
   ]
  },
  {
   "cell_type": "code",
   "execution_count": 40,
   "metadata": {},
   "outputs": [
    {
     "data": {
      "text/plain": [
       "17.5"
      ]
     },
     "execution_count": 40,
     "metadata": {},
     "output_type": "execute_result"
    }
   ],
   "source": [
    "up_lim_Age"
   ]
  },
  {
   "cell_type": "code",
   "execution_count": 41,
   "metadata": {},
   "outputs": [
    {
     "data": {
      "text/plain": [
       "[22.0,\n",
       " 26.0,\n",
       " 35.0,\n",
       " 28.0,\n",
       " 27.0,\n",
       " 58.0,\n",
       " 20.0,\n",
       " 39.0,\n",
       " 55.0,\n",
       " 28.0,\n",
       " 31.0,\n",
       " 28.0,\n",
       " 35.0,\n",
       " 34.0,\n",
       " 38.0,\n",
       " 28.0,\n",
       " 28.0,\n",
       " 28.0,\n",
       " 40.0,\n",
       " 28.0,\n",
       " 66.0,\n",
       " 28.0,\n",
       " 21.0,\n",
       " 18.0,\n",
       " 40.0,\n",
       " 27.0,\n",
       " 28.0,\n",
       " 19.0,\n",
       " 28.0,\n",
       " 28.0,\n",
       " 28.0,\n",
       " 28.0,\n",
       " 18.0,\n",
       " 21.0,\n",
       " 29.0,\n",
       " 21.0,\n",
       " 28.5,\n",
       " 22.0,\n",
       " 28.0,\n",
       " 28.0,\n",
       " 29.0,\n",
       " 19.0,\n",
       " 26.0,\n",
       " 32.0,\n",
       " 26.0,\n",
       " 25.0,\n",
       " 28.0,\n",
       " 28.0,\n",
       " 30.0,\n",
       " 22.0,\n",
       " 29.0,\n",
       " 28.0,\n",
       " 28.0,\n",
       " 24.0,\n",
       " 29.0,\n",
       " 20.0,\n",
       " 26.0,\n",
       " 59.0,\n",
       " 28.0,\n",
       " 34.0,\n",
       " 34.0,\n",
       " 28.0,\n",
       " 28.0,\n",
       " 33.0,\n",
       " 37.0,\n",
       " 28.0,\n",
       " 21.0,\n",
       " 28.0,\n",
       " 38.0,\n",
       " 28.0,\n",
       " 22.0,\n",
       " 20.0,\n",
       " 21.0,\n",
       " 70.5,\n",
       " 29.0,\n",
       " 28.0,\n",
       " 32.5,\n",
       " 32.5,\n",
       " 28.0,\n",
       " 24.0,\n",
       " 28.0,\n",
       " 45.0,\n",
       " 33.0,\n",
       " 20.0,\n",
       " 47.0,\n",
       " 29.0,\n",
       " 25.0,\n",
       " 23.0,\n",
       " 19.0,\n",
       " 28.0,\n",
       " 22.0,\n",
       " 24.0,\n",
       " 19.0,\n",
       " 18.0,\n",
       " 27.0,\n",
       " 36.5,\n",
       " 42.0,\n",
       " 51.0,\n",
       " 55.5,\n",
       " 40.5,\n",
       " 28.0,\n",
       " 30.0,\n",
       " 28.0,\n",
       " 44.0,\n",
       " 40.0,\n",
       " 26.0,\n",
       " 45.0,\n",
       " 28.0,\n",
       " 61.0,\n",
       " 21.0,\n",
       " 56.0,\n",
       " 18.0,\n",
       " 50.0,\n",
       " 30.0,\n",
       " 36.0,\n",
       " 28.0,\n",
       " 28.0,\n",
       " 45.0,\n",
       " 40.0,\n",
       " 36.0,\n",
       " 32.0,\n",
       " 19.0,\n",
       " 19.0,\n",
       " 44.0,\n",
       " 28.0,\n",
       " 42.0,\n",
       " 28.0,\n",
       " 24.0,\n",
       " 28.0,\n",
       " 34.0,\n",
       " 45.5,\n",
       " 18.0,\n",
       " 32.0,\n",
       " 26.0,\n",
       " 40.0,\n",
       " 24.0,\n",
       " 35.0,\n",
       " 22.0,\n",
       " 30.0,\n",
       " 28.0,\n",
       " 27.0,\n",
       " 42.0,\n",
       " 30.0,\n",
       " 27.0,\n",
       " 51.0,\n",
       " 28.0,\n",
       " 22.0,\n",
       " 19.0,\n",
       " 20.5,\n",
       " 18.0,\n",
       " 29.0,\n",
       " 59.0,\n",
       " 24.0,\n",
       " 28.0,\n",
       " 44.0,\n",
       " 19.0,\n",
       " 33.0,\n",
       " 28.0,\n",
       " 28.0,\n",
       " 29.0,\n",
       " 22.0,\n",
       " 30.0,\n",
       " 25.0,\n",
       " 24.0,\n",
       " 54.0,\n",
       " 28.0,\n",
       " 29.0,\n",
       " 62.0,\n",
       " 30.0,\n",
       " 41.0,\n",
       " 29.0,\n",
       " 50.0,\n",
       " 28.0,\n",
       " 40.0,\n",
       " 28.0,\n",
       " 36.0,\n",
       " 25.0,\n",
       " 28.0,\n",
       " 25.0,\n",
       " 41.0,\n",
       " 37.0,\n",
       " 28.0,\n",
       " 45.0,\n",
       " 28.0,\n",
       " 35.0,\n",
       " 65.0,\n",
       " 28.0,\n",
       " 19.0,\n",
       " 28.0,\n",
       " 33.0,\n",
       " 30.0,\n",
       " 22.0,\n",
       " 42.0,\n",
       " 22.0,\n",
       " 36.0,\n",
       " 24.0,\n",
       " 24.0,\n",
       " 28.0,\n",
       " 23.5,\n",
       " 28.0,\n",
       " 28.0,\n",
       " 28.0,\n",
       " 19.0,\n",
       " 28.0,\n",
       " 28.0,\n",
       " 30.0,\n",
       " 26.0,\n",
       " 28.0,\n",
       " 43.0,\n",
       " 26.0,\n",
       " 24.0,\n",
       " 54.0,\n",
       " 22.0,\n",
       " 27.0,\n",
       " 30.0,\n",
       " 22.0,\n",
       " 61.0,\n",
       " 36.0,\n",
       " 31.0,\n",
       " 28.0,\n",
       " 45.5,\n",
       " 28.0,\n",
       " 45.0,\n",
       " 28.0,\n",
       " 25.0,\n",
       " 36.0,\n",
       " 24.0,\n",
       " 40.0,\n",
       " 28.0,\n",
       " 42.0,\n",
       " 23.0,\n",
       " 25.0,\n",
       " 28.0,\n",
       " 28.0,\n",
       " 38.0,\n",
       " 28.0,\n",
       " 28.0,\n",
       " 40.0,\n",
       " 29.0,\n",
       " 45.0,\n",
       " 35.0,\n",
       " 28.0,\n",
       " 30.0,\n",
       " 28.0,\n",
       " 28.0,\n",
       " 18.0,\n",
       " 19.0,\n",
       " 22.0,\n",
       " 20.0,\n",
       " 19.0,\n",
       " 32.0,\n",
       " 28.0,\n",
       " 36.0,\n",
       " 28.0,\n",
       " 21.0,\n",
       " 28.0,\n",
       " 24.0,\n",
       " 22.0,\n",
       " 31.0,\n",
       " 46.0,\n",
       " 23.0,\n",
       " 28.0,\n",
       " 39.0,\n",
       " 26.0,\n",
       " 21.0,\n",
       " 28.0,\n",
       " 20.0,\n",
       " 34.0,\n",
       " 51.0,\n",
       " 21.0,\n",
       " 28.0,\n",
       " 28.0,\n",
       " 28.0,\n",
       " 44.0,\n",
       " 28.0,\n",
       " 34.0,\n",
       " 18.0,\n",
       " 30.0,\n",
       " 28.0,\n",
       " 21.0,\n",
       " 29.0,\n",
       " 28.0,\n",
       " 18.0,\n",
       " 28.0,\n",
       " 28.0,\n",
       " 19.0,\n",
       " 28.0,\n",
       " 32.0,\n",
       " 28.0,\n",
       " 28.0,\n",
       " 42.0,\n",
       " 24.0,\n",
       " 31.0,\n",
       " 45.0,\n",
       " 20.0,\n",
       " 25.0,\n",
       " 28.0,\n",
       " 28.0,\n",
       " 34.0,\n",
       " 52.0,\n",
       " 36.0,\n",
       " 28.0,\n",
       " 30.0,\n",
       " 28.0,\n",
       " 29.0,\n",
       " 65.0,\n",
       " 50.0,\n",
       " 28.0,\n",
       " 48.0,\n",
       " 34.0,\n",
       " 48.0,\n",
       " 28.0,\n",
       " 38.0,\n",
       " 28.0,\n",
       " 56.0,\n",
       " 28.0,\n",
       " 28.0,\n",
       " 38.0,\n",
       " 33.0,\n",
       " 23.0,\n",
       " 22.0,\n",
       " 34.0,\n",
       " 29.0,\n",
       " 22.0,\n",
       " 28.0,\n",
       " 50.0,\n",
       " 63.0,\n",
       " 58.0,\n",
       " 30.0,\n",
       " 28.0,\n",
       " 21.0,\n",
       " 55.0,\n",
       " 21.0,\n",
       " 28.0,\n",
       " 28.0,\n",
       " 24.0,\n",
       " 21.0,\n",
       " 28.0,\n",
       " 37.0,\n",
       " 33.0,\n",
       " 28.0,\n",
       " 28.0,\n",
       " 29.0,\n",
       " 28.0,\n",
       " 36.0,\n",
       " 24.0,\n",
       " 47.0,\n",
       " 34.0,\n",
       " 28.0,\n",
       " 36.0,\n",
       " 32.0,\n",
       " 22.0,\n",
       " 28.0,\n",
       " 28.0,\n",
       " 40.5,\n",
       " 50.0,\n",
       " 39.0,\n",
       " 23.0,\n",
       " 28.0,\n",
       " 28.0,\n",
       " 30.0,\n",
       " 45.0,\n",
       " 28.0,\n",
       " 32.0,\n",
       " 64.0,\n",
       " 19.0,\n",
       " 28.0,\n",
       " 33.0,\n",
       " 27.0,\n",
       " 28.0,\n",
       " 22.0,\n",
       " 22.0,\n",
       " 62.0,\n",
       " 36.0,\n",
       " 28.0,\n",
       " 40.0,\n",
       " 28.0,\n",
       " 28.0,\n",
       " 28.0,\n",
       " 24.0,\n",
       " 19.0,\n",
       " 29.0,\n",
       " 28.0,\n",
       " 32.0,\n",
       " 62.0,\n",
       " 36.0,\n",
       " 28.0,\n",
       " 19.0,\n",
       " 34.0,\n",
       " 28.0,\n",
       " 32.0,\n",
       " 25.0,\n",
       " 54.0,\n",
       " 28.0,\n",
       " 47.0,\n",
       " 22.0,\n",
       " 28.0,\n",
       " 35.0,\n",
       " 47.0,\n",
       " 28.0,\n",
       " 37.0,\n",
       " 36.0,\n",
       " 28.0,\n",
       " 49.0,\n",
       " 28.0,\n",
       " 24.0,\n",
       " 28.0,\n",
       " 44.0,\n",
       " 35.0,\n",
       " 36.0,\n",
       " 30.0,\n",
       " 27.0,\n",
       " 39.0,\n",
       " 28.0,\n",
       " 28.0,\n",
       " 28.0,\n",
       " 35.0,\n",
       " 34.0,\n",
       " 26.0,\n",
       " 26.0,\n",
       " 27.0,\n",
       " 20.0,\n",
       " 21.0,\n",
       " 21.0,\n",
       " 61.0,\n",
       " 57.0,\n",
       " 26.0,\n",
       " 28.0,\n",
       " 80.0,\n",
       " 51.0,\n",
       " 32.0,\n",
       " 28.0,\n",
       " 28.0,\n",
       " 32.0,\n",
       " 31.0,\n",
       " 28.0,\n",
       " 20.0,\n",
       " 19.0,\n",
       " 28.0,\n",
       " 23.0,\n",
       " 28.0,\n",
       " 18.0,\n",
       " 21.0,\n",
       " 28.0,\n",
       " 18.0,\n",
       " 28.0,\n",
       " 32.0,\n",
       " 23.0,\n",
       " 40.0,\n",
       " 47.0,\n",
       " 36.0,\n",
       " 20.0,\n",
       " 25.0,\n",
       " 28.0,\n",
       " 43.0,\n",
       " 70.0,\n",
       " 31.0,\n",
       " 28.0,\n",
       " 18.0,\n",
       " 24.5,\n",
       " 18.0,\n",
       " 28.0,\n",
       " 20.0,\n",
       " 19.0,\n",
       " 18.0,\n",
       " 25.0,\n",
       " 60.0,\n",
       " 52.0,\n",
       " 44.0,\n",
       " 28.0,\n",
       " 42.0,\n",
       " 35.0,\n",
       " 18.0,\n",
       " 25.0,\n",
       " 26.0,\n",
       " 39.0,\n",
       " 45.0,\n",
       " 42.0,\n",
       " 28.0,\n",
       " 28.0,\n",
       " 29.0,\n",
       " 52.0,\n",
       " 19.0,\n",
       " 27.0,\n",
       " 28.0,\n",
       " 33.0,\n",
       " 34.0,\n",
       " 50.0,\n",
       " 20.0,\n",
       " 28.0,\n",
       " 25.0,\n",
       " 25.0,\n",
       " 28.0,\n",
       " 23.0,\n",
       " 23.0,\n",
       " 28.5,\n",
       " 28.0,\n",
       " 28.0,\n",
       " 28.0,\n",
       " 24.0,\n",
       " 31.0,\n",
       " 30.0,\n",
       " 31.0,\n",
       " 33.0,\n",
       " 23.0,\n",
       " 28.0,\n",
       " 18.0,\n",
       " 34.0,\n",
       " 28.0,\n",
       " 41.0,\n",
       " 20.0,\n",
       " 30.5,\n",
       " 28.0,\n",
       " 32.0,\n",
       " 24.0,\n",
       " 48.0,\n",
       " 57.0,\n",
       " 28.0,\n",
       " 54.0,\n",
       " 18.0,\n",
       " 28.0,\n",
       " 28.0,\n",
       " 29.0,\n",
       " 28.0,\n",
       " 25.0,\n",
       " 25.0,\n",
       " 18.0,\n",
       " 28.0,\n",
       " 28.0,\n",
       " 25.0,\n",
       " 39.0,\n",
       " 49.0,\n",
       " 31.0,\n",
       " 30.0,\n",
       " 30.0,\n",
       " 34.0,\n",
       " 31.0,\n",
       " 27.0,\n",
       " 31.0,\n",
       " 39.0,\n",
       " 18.0,\n",
       " 39.0,\n",
       " 26.0,\n",
       " 39.0,\n",
       " 35.0,\n",
       " 30.5,\n",
       " 28.0,\n",
       " 23.0,\n",
       " 43.0,\n",
       " 27.0,\n",
       " 38.0,\n",
       " 27.0,\n",
       " 28.0,\n",
       " 28.0,\n",
       " 28.0,\n",
       " 23.0,\n",
       " 18.0,\n",
       " 21.0,\n",
       " 28.0,\n",
       " 28.0,\n",
       " 20.0,\n",
       " 30.0,\n",
       " 34.5,\n",
       " 42.0,\n",
       " 35.0,\n",
       " 28.0,\n",
       " 74.0,\n",
       " 44.0,\n",
       " 18.0,\n",
       " 51.0,\n",
       " 24.0,\n",
       " 28.0,\n",
       " 41.0,\n",
       " 21.0,\n",
       " 48.0,\n",
       " 24.0,\n",
       " 42.0,\n",
       " 27.0,\n",
       " 28.0,\n",
       " 26.0,\n",
       " 33.0,\n",
       " 47.0,\n",
       " 28.0,\n",
       " 20.0,\n",
       " 19.0,\n",
       " 28.0,\n",
       " 25.0,\n",
       " 33.0,\n",
       " 22.0,\n",
       " 28.0,\n",
       " 25.0,\n",
       " 39.0,\n",
       " 27.0,\n",
       " 19.0,\n",
       " 28.0,\n",
       " 26.0,\n",
       " 32.0]"
      ]
     },
     "execution_count": 41,
     "metadata": {},
     "output_type": "execute_result"
    }
   ],
   "source": [
    "outlier = []\n",
    "for x in data['Age']:\n",
    "    if((x>up_lim_Age) or (x<low_lim_Age)):\n",
    "        outlier.append(x)\n",
    "outlier"
   ]
  },
  {
   "cell_type": "code",
   "execution_count": 42,
   "metadata": {},
   "outputs": [],
   "source": [
    "#to find the index of the outliers\n",
    "ind3 = (data['Age']>up_lim_Fare)\n",
    "e3 = data.loc[ind3].index"
   ]
  },
  {
   "cell_type": "code",
   "execution_count": 43,
   "metadata": {},
   "outputs": [
    {
     "data": {
      "text/plain": [
       "Int64Index([  5,  12,  14,  16,  21,  26,  31,  34,  41,  95,\n",
       "            ...\n",
       "            846, 848, 852, 855, 858, 861, 863, 866, 874, 886],\n",
       "           dtype='int64', name='PassengerId', length=153)"
      ]
     },
     "execution_count": 43,
     "metadata": {},
     "output_type": "execute_result"
    }
   ],
   "source": [
    "e3"
   ]
  },
  {
   "cell_type": "code",
   "execution_count": 44,
   "metadata": {},
   "outputs": [],
   "source": [
    "data.drop((e3), inplace = True)"
   ]
  },
  {
   "cell_type": "code",
   "execution_count": 45,
   "metadata": {},
   "outputs": [
    {
     "data": {
      "text/plain": [
       "Text(0.5, 1.0, 'BOXPLOT OF Age')"
      ]
     },
     "execution_count": 45,
     "metadata": {},
     "output_type": "execute_result"
    },
    {
     "data": {
      "image/png": "[encoded data removed]",
      "text/plain": [
       "<Figure size 432x288 with 1 Axes>"
      ]
     },
     "metadata": {
      "needs_background": "light"
     },
     "output_type": "display_data"
    }
   ],
   "source": [
    "plt.boxplot(data['Age'])\n",
    "plt.title('BOXPLOT OF Age')"
   ]
  },
  {
   "cell_type": "markdown",
   "metadata": {},
   "source": [
    "Q6: Do min max scaling on the feature set (Take survived as target)"
   ]
  },
  {
   "cell_type": "code",
   "execution_count": 46,
   "metadata": {},
   "outputs": [
    {
     "data": {
      "text/html": [
       "<div>\n",
       "<style scoped>\n",
       "    .dataframe tbody tr th:only-of-type {\n",
       "        vertical-align: middle;\n",
       "    }\n",
       "\n",
       "    .dataframe tbody tr th {\n",
       "        vertical-align: top;\n",
       "    }\n",
       "\n",
       "    .dataframe thead th {\n",
       "        text-align: right;\n",
       "    }\n",
       "</style>\n",
       "<table border=\"1\" class=\"dataframe\">\n",
       "  <thead>\n",
       "    <tr style=\"text-align: right;\">\n",
       "      <th></th>\n",
       "      <th>Survived</th>\n",
       "      <th>Pclass</th>\n",
       "      <th>Age</th>\n",
       "      <th>SibSp</th>\n",
       "      <th>Parch</th>\n",
       "      <th>Fare</th>\n",
       "    </tr>\n",
       "  </thead>\n",
       "  <tbody>\n",
       "    <tr>\n",
       "      <th>count</th>\n",
       "      <td>508.00000</td>\n",
       "      <td>508.000000</td>\n",
       "      <td>508.000000</td>\n",
       "      <td>508.000000</td>\n",
       "      <td>508.000000</td>\n",
       "      <td>508.000000</td>\n",
       "    </tr>\n",
       "    <tr>\n",
       "      <th>mean</th>\n",
       "      <td>0.34252</td>\n",
       "      <td>2.679134</td>\n",
       "      <td>24.256398</td>\n",
       "      <td>0.255906</td>\n",
       "      <td>0.216535</td>\n",
       "      <td>12.476983</td>\n",
       "    </tr>\n",
       "    <tr>\n",
       "      <th>std</th>\n",
       "      <td>0.47502</td>\n",
       "      <td>0.559478</td>\n",
       "      <td>7.102550</td>\n",
       "      <td>0.496004</td>\n",
       "      <td>0.555022</td>\n",
       "      <td>7.065308</td>\n",
       "    </tr>\n",
       "    <tr>\n",
       "      <th>min</th>\n",
       "      <td>0.00000</td>\n",
       "      <td>1.000000</td>\n",
       "      <td>0.420000</td>\n",
       "      <td>0.000000</td>\n",
       "      <td>0.000000</td>\n",
       "      <td>0.000000</td>\n",
       "    </tr>\n",
       "    <tr>\n",
       "      <th>25%</th>\n",
       "      <td>0.00000</td>\n",
       "      <td>2.000000</td>\n",
       "      <td>21.000000</td>\n",
       "      <td>0.000000</td>\n",
       "      <td>0.000000</td>\n",
       "      <td>7.775000</td>\n",
       "    </tr>\n",
       "    <tr>\n",
       "      <th>50%</th>\n",
       "      <td>0.00000</td>\n",
       "      <td>3.000000</td>\n",
       "      <td>28.000000</td>\n",
       "      <td>0.000000</td>\n",
       "      <td>0.000000</td>\n",
       "      <td>8.662500</td>\n",
       "    </tr>\n",
       "    <tr>\n",
       "      <th>75%</th>\n",
       "      <td>1.00000</td>\n",
       "      <td>3.000000</td>\n",
       "      <td>28.000000</td>\n",
       "      <td>0.000000</td>\n",
       "      <td>0.000000</td>\n",
       "      <td>15.500000</td>\n",
       "    </tr>\n",
       "    <tr>\n",
       "      <th>max</th>\n",
       "      <td>1.00000</td>\n",
       "      <td>3.000000</td>\n",
       "      <td>34.000000</td>\n",
       "      <td>2.000000</td>\n",
       "      <td>4.000000</td>\n",
       "      <td>33.000000</td>\n",
       "    </tr>\n",
       "  </tbody>\n",
       "</table>\n",
       "</div>"
      ],
      "text/plain": [
       "        Survived      Pclass         Age       SibSp       Parch        Fare\n",
       "count  508.00000  508.000000  508.000000  508.000000  508.000000  508.000000\n",
       "mean     0.34252    2.679134   24.256398    0.255906    0.216535   12.476983\n",
       "std      0.47502    0.559478    7.102550    0.496004    0.555022    7.065308\n",
       "min      0.00000    1.000000    0.420000    0.000000    0.000000    0.000000\n",
       "25%      0.00000    2.000000   21.000000    0.000000    0.000000    7.775000\n",
       "50%      0.00000    3.000000   28.000000    0.000000    0.000000    8.662500\n",
       "75%      1.00000    3.000000   28.000000    0.000000    0.000000   15.500000\n",
       "max      1.00000    3.000000   34.000000    2.000000    4.000000   33.000000"
      ]
     },
     "execution_count": 46,
     "metadata": {},
     "output_type": "execute_result"
    }
   ],
   "source": [
    "from sklearn import preprocessing\n",
    "data.describe()"
   ]
  },
  {
   "cell_type": "code",
   "execution_count": 47,
   "metadata": {},
   "outputs": [],
   "source": [
    "min_max = preprocessing.MinMaxScaler(feature_range = (0,1))"
   ]
  },
  {
   "cell_type": "code",
   "execution_count": 48,
   "metadata": {},
   "outputs": [],
   "source": [
    "d = min_max.fit_transform(data[['Survived']])"
   ]
  },
  {
   "cell_type": "code",
   "execution_count": 49,
   "metadata": {},
   "outputs": [
    {
     "data": {
      "text/html": [
       "<div>\n",
       "<style scoped>\n",
       "    .dataframe tbody tr th:only-of-type {\n",
       "        vertical-align: middle;\n",
       "    }\n",
       "\n",
       "    .dataframe tbody tr th {\n",
       "        vertical-align: top;\n",
       "    }\n",
       "\n",
       "    .dataframe thead th {\n",
       "        text-align: right;\n",
       "    }\n",
       "</style>\n",
       "<table border=\"1\" class=\"dataframe\">\n",
       "  <thead>\n",
       "    <tr style=\"text-align: right;\">\n",
       "      <th></th>\n",
       "      <th>0</th>\n",
       "    </tr>\n",
       "  </thead>\n",
       "  <tbody>\n",
       "    <tr>\n",
       "      <th>count</th>\n",
       "      <td>508.00000</td>\n",
       "    </tr>\n",
       "    <tr>\n",
       "      <th>mean</th>\n",
       "      <td>0.34252</td>\n",
       "    </tr>\n",
       "    <tr>\n",
       "      <th>std</th>\n",
       "      <td>0.47502</td>\n",
       "    </tr>\n",
       "    <tr>\n",
       "      <th>min</th>\n",
       "      <td>0.00000</td>\n",
       "    </tr>\n",
       "    <tr>\n",
       "      <th>25%</th>\n",
       "      <td>0.00000</td>\n",
       "    </tr>\n",
       "    <tr>\n",
       "      <th>50%</th>\n",
       "      <td>0.00000</td>\n",
       "    </tr>\n",
       "    <tr>\n",
       "      <th>75%</th>\n",
       "      <td>1.00000</td>\n",
       "    </tr>\n",
       "    <tr>\n",
       "      <th>max</th>\n",
       "      <td>1.00000</td>\n",
       "    </tr>\n",
       "  </tbody>\n",
       "</table>\n",
       "</div>"
      ],
      "text/plain": [
       "               0\n",
       "count  508.00000\n",
       "mean     0.34252\n",
       "std      0.47502\n",
       "min      0.00000\n",
       "25%      0.00000\n",
       "50%      0.00000\n",
       "75%      1.00000\n",
       "max      1.00000"
      ]
     },
     "execution_count": 49,
     "metadata": {},
     "output_type": "execute_result"
    }
   ],
   "source": [
    "d = pd.DataFrame(d)\n",
    "d.describe()"
   ]
  },
  {
   "cell_type": "code",
   "execution_count": 50,
   "metadata": {},
   "outputs": [
    {
     "data": {
      "text/html": [
       "<div>\n",
       "<style scoped>\n",
       "    .dataframe tbody tr th:only-of-type {\n",
       "        vertical-align: middle;\n",
       "    }\n",
       "\n",
       "    .dataframe tbody tr th {\n",
       "        vertical-align: top;\n",
       "    }\n",
       "\n",
       "    .dataframe thead th {\n",
       "        text-align: right;\n",
       "    }\n",
       "</style>\n",
       "<table border=\"1\" class=\"dataframe\">\n",
       "  <thead>\n",
       "    <tr style=\"text-align: right;\">\n",
       "      <th></th>\n",
       "      <th>0</th>\n",
       "    </tr>\n",
       "  </thead>\n",
       "  <tbody>\n",
       "    <tr>\n",
       "      <th>0</th>\n",
       "      <td>0.0</td>\n",
       "    </tr>\n",
       "    <tr>\n",
       "      <th>1</th>\n",
       "      <td>1.0</td>\n",
       "    </tr>\n",
       "    <tr>\n",
       "      <th>2</th>\n",
       "      <td>0.0</td>\n",
       "    </tr>\n",
       "    <tr>\n",
       "      <th>3</th>\n",
       "      <td>1.0</td>\n",
       "    </tr>\n",
       "    <tr>\n",
       "      <th>4</th>\n",
       "      <td>1.0</td>\n",
       "    </tr>\n",
       "    <tr>\n",
       "      <th>...</th>\n",
       "      <td>...</td>\n",
       "    </tr>\n",
       "    <tr>\n",
       "      <th>503</th>\n",
       "      <td>0.0</td>\n",
       "    </tr>\n",
       "    <tr>\n",
       "      <th>504</th>\n",
       "      <td>1.0</td>\n",
       "    </tr>\n",
       "    <tr>\n",
       "      <th>505</th>\n",
       "      <td>0.0</td>\n",
       "    </tr>\n",
       "    <tr>\n",
       "      <th>506</th>\n",
       "      <td>1.0</td>\n",
       "    </tr>\n",
       "    <tr>\n",
       "      <th>507</th>\n",
       "      <td>0.0</td>\n",
       "    </tr>\n",
       "  </tbody>\n",
       "</table>\n",
       "<p>508 rows × 1 columns</p>\n",
       "</div>"
      ],
      "text/plain": [
       "       0\n",
       "0    0.0\n",
       "1    1.0\n",
       "2    0.0\n",
       "3    1.0\n",
       "4    1.0\n",
       "..   ...\n",
       "503  0.0\n",
       "504  1.0\n",
       "505  0.0\n",
       "506  1.0\n",
       "507  0.0\n",
       "\n",
       "[508 rows x 1 columns]"
      ]
     },
     "execution_count": 50,
     "metadata": {},
     "output_type": "execute_result"
    }
   ],
   "source": [
    "d"
   ]
  }
 ],
 "metadata": {
  "kernelspec": {
   "display_name": "Python 3",
   "language": "python",
   "name": "python3"
  },
  "language_info": {
   "codemirror_mode": {
    "name": "ipython",
    "version": 3
   },
   "file_extension": ".py",
   "mimetype": "text/x-python",
   "name": "python",
   "nbconvert_exporter": "python",
   "pygments_lexer": "ipython3",
   "version": "3.8.5"
  }
 },
 "nbformat": 4,
 "nbformat_minor": 4
}
